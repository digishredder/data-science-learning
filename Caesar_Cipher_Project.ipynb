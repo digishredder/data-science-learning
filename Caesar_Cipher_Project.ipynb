{
 "cells": [
  {
   "cell_type": "code",
   "execution_count": 136,
   "id": "4259c3ec-b6bd-4917-b8c7-4ddb7d186043",
   "metadata": {},
   "outputs": [
    {
     "ename": "SyntaxError",
     "evalue": "invalid syntax (1663565755.py, line 1)",
     "output_type": "error",
     "traceback": [
      "\u001b[0;36m  Cell \u001b[0;32mIn[136], line 1\u001b[0;36m\u001b[0m\n\u001b[0;31m    Hey there! How have you been? I've been great! I just learned about this really cool type of cipher called a Caesar Cipher. Here's how it works: You take your message, something like \"hello\" and then you shift all of the letters by a certain offset.\u001b[0m\n\u001b[0m        ^\u001b[0m\n\u001b[0;31mSyntaxError\u001b[0m\u001b[0;31m:\u001b[0m invalid syntax\n"
     ]
    }
   ],
   "source": [
    "Hey there! How have you been? I've been great! I just learned about this really cool type of cipher called a Caesar Cipher. Here's how it works: You take your message, something like \"hello\" and then you shift all of the letters by a certain offset. \n",
    "\n",
    "For example, if I chose an offset of 3 and a message of \"hello\", I would encode my message by shifting each letter 3 places to the left with respect to the alphabet. So \"h\" becomes \"e\", \"e\" becomes \"b\", \"l\" becomes \"i\", and \"o\" becomes \"l\". Then I have my encoded message, \"ebiil\"! Now I can send you my message and the offset and you can decode it by shifting each letter 3 places to the right. The best thing is that Julius Caesar himself used this cipher, that's why it's called the Caesar Cipher! Isn't that so cool! Okay, now I'm going to send you a longer encoded message that you have to decode yourself!\n",
    "\n",
    "    xuo jxuhu! jxyi yi qd unqcfbu ev q squiqh syfxuh. muhu oek qrbu je tusetu yj? y xefu ie! iudt cu q cuiiqwu rqsa myjx jxu iqcu evviuj!\n",
    "\n",
    "This message has an offset of 10. Can you decode it?"
   ]
  },
  {
   "cell_type": "code",
   "execution_count": 159,
   "id": "960ef93e-ec2e-4c92-9c53-74df4e432fb9",
   "metadata": {},
   "outputs": [],
   "source": [
    "import string"
   ]
  },
  {
   "cell_type": "code",
   "execution_count": 160,
   "id": "66874f62-e41b-4d14-bc29-42fcecbcde0d",
   "metadata": {},
   "outputs": [],
   "source": [
    "alphabet=string.ascii_lowercase"
   ]
  },
  {
   "cell_type": "code",
   "execution_count": 161,
   "id": "5f218d3d-7afd-4e01-aba6-7051497cf030",
   "metadata": {},
   "outputs": [
    {
     "name": "stdout",
     "output_type": "stream",
     "text": [
      "abcdefghijklmnopqrstuvwxyz\n"
     ]
    }
   ],
   "source": [
    "print(alphabet)"
   ]
  },
  {
   "cell_type": "code",
   "execution_count": 162,
   "id": "87c9d689-9eed-413a-8d6b-ac10f696a261",
   "metadata": {},
   "outputs": [
    {
     "name": "stdout",
     "output_type": "stream",
     "text": [
      "3\n"
     ]
    }
   ],
   "source": [
    "print(alphabet.index('d'))\n"
   ]
  },
  {
   "cell_type": "code",
   "execution_count": 163,
   "id": "e0e1bc75-7a8b-4568-a18c-ca2cfeffadf2",
   "metadata": {},
   "outputs": [],
   "source": [
    "def decode_cypher(text, shift):\n",
    "    decoded = ''\n",
    "    for letter in text:\n",
    "        if letter in alphabet:\n",
    "            new_index = (alphabet.index(letter) + shift) % 26\n",
    "            decoded += alphabet[new_index]\n",
    "        else: decoded += letter\n",
    "    return decoded"
   ]
  },
  {
   "cell_type": "code",
   "execution_count": 164,
   "id": "ac6809d2-4a2d-425c-9b8e-04dadb247d66",
   "metadata": {},
   "outputs": [
    {
     "data": {
      "text/plain": [
       "'k'"
      ]
     },
     "execution_count": 164,
     "metadata": {},
     "output_type": "execute_result"
    }
   ],
   "source": [
    "decode_cypher('a', 10)"
   ]
  },
  {
   "cell_type": "code",
   "execution_count": 165,
   "id": "aaa18a81-24b4-4084-96a2-2e42c7d69cda",
   "metadata": {},
   "outputs": [],
   "source": [
    "cypher = \"xuo jxuhu! jxyi yi qd unqcfbu ev q squiqh syfxuh. muhu oek qrbu je tusetu yj? y xefu ie! iudt cu q cuiiqwu rqsa myjx jxu iqcu evviuj!\""
   ]
  },
  {
   "cell_type": "code",
   "execution_count": 166,
   "id": "11ff65f7-dfee-48d8-9577-56ba0ff6a132",
   "metadata": {},
   "outputs": [
    {
     "data": {
      "text/plain": [
       "'hey there! this is an example of a caesar cipher. were you able to decode it? i hope so! send me a message back with the same offset!'"
      ]
     },
     "execution_count": 166,
     "metadata": {},
     "output_type": "execute_result"
    }
   ],
   "source": [
    "decode_cypher(cypher, 10)"
   ]
  },
  {
   "cell_type": "code",
   "execution_count": 167,
   "id": "8a8bf8b7-e162-4bb1-ad17-8f594d06dd27",
   "metadata": {},
   "outputs": [],
   "source": [
    "send_cypher = \"hey Vishal, fuck you because this exercise was way too hard but necessary at the same time.\""
   ]
  },
  {
   "cell_type": "code",
   "execution_count": 168,
   "id": "fea38682-6dba-460a-bd07-ee81ffc1ee81",
   "metadata": {},
   "outputs": [],
   "source": [
    "def encode_cypher(text, shift):\n",
    "    decoded = ''\n",
    "    for letter in text:\n",
    "        if letter in alphabet:\n",
    "            new_index = (alphabet.index(letter) - shift) % 26\n",
    "            decoded += alphabet[new_index]\n",
    "        else: decoded += letter\n",
    "    return decoded"
   ]
  },
  {
   "cell_type": "code",
   "execution_count": 169,
   "id": "aa73ba1d-b062-4feb-a423-8d4aef6e4352",
   "metadata": {},
   "outputs": [
    {
     "data": {
      "text/plain": [
       "'xuo Vyixqb, vksa oek rusqkiu jxyi unuhsyiu mqi mqo jee xqht rkj dusuiiqho qj jxu iqcu jycu.'"
      ]
     },
     "execution_count": 169,
     "metadata": {},
     "output_type": "execute_result"
    }
   ],
   "source": [
    "encode_cypher(send_cypher, 10)"
   ]
  },
  {
   "cell_type": "code",
   "execution_count": 170,
   "id": "12b93c1e-c826-4f80-a13f-98b7f5119067",
   "metadata": {},
   "outputs": [],
   "source": [
    "cypher_4 = \"vhfinmxkl atox kxgwxkxw tee hy maxlx hew vbiaxkl hulhexmx. px'ee atox mh kxteer lmxi ni hnk ztfx by px ptgm mh dxxi hnk fxlltzxl ltyx.\""
   ]
  },
  {
   "cell_type": "code",
   "execution_count": 171,
   "id": "0dc3ae65-9079-41a3-928f-002259268aed",
   "metadata": {},
   "outputs": [],
   "source": [
    "def shift_loop(text):\n",
    "    \n",
    "    for i in range(20):\n",
    "        decoded_text = decode_cypher(text, i)\n",
    "        print(\"for indicie \" + str(i) + \"\\n\" + decoded_text)"
   ]
  },
  {
   "cell_type": "code",
   "execution_count": 172,
   "id": "998256e7-ed92-4acd-9d2f-bf86c09e5517",
   "metadata": {},
   "outputs": [
    {
     "name": "stdout",
     "output_type": "stream",
     "text": [
      "for indicie 0\n",
      "vhfinmxkl atox kxgwxkxw tee hy maxlx hew vbiaxkl hulhexmx. px'ee atox mh kxteer lmxi ni hnk ztfx by px ptgm mh dxxi hnk fxlltzxl ltyx.\n",
      "for indicie 1\n",
      "wigjonylm bupy lyhxylyx uff iz nbymy ifx wcjbylm ivmifyny. qy'ff bupy ni lyuffs mnyj oj iol augy cz qy quhn ni eyyj iol gymmuaym muzy.\n",
      "for indicie 2\n",
      "xjhkpozmn cvqz mziyzmzy vgg ja ocznz jgy xdkczmn jwnjgzoz. rz'gg cvqz oj mzvggt nozk pk jpm bvhz da rz rvio oj fzzk jpm hznnvbzn nvaz.\n",
      "for indicie 3\n",
      "ykilqpano dwra najzanaz whh kb pdaoa khz yeldano kxokhapa. sa'hh dwra pk nawhhu opal ql kqn cwia eb sa swjp pk gaal kqn iaoowcao owba.\n",
      "for indicie 4\n",
      "zljmrqbop exsb obkaboba xii lc qebpb lia zfmebop lyplibqb. tb'ii exsb ql obxiiv pqbm rm lro dxjb fc tb txkq ql hbbm lro jbppxdbp pxcb.\n",
      "for indicie 5\n",
      "amknsrcpq fytc pclbcpcb yjj md rfcqc mjb agnfcpq mzqmjcrc. uc'jj fytc rm pcyjjw qrcn sn msp eykc gd uc uylr rm iccn msp kcqqyecq qydc.\n",
      "for indicie 6\n",
      "bnlotsdqr gzud qdmcdqdc zkk ne sgdrd nkc bhogdqr narnkdsd. vd'kk gzud sn qdzkkx rsdo to ntq fzld he vd vzms sn jddo ntq ldrrzfdr rzed.\n",
      "for indicie 7\n",
      "computers have rendered all of these old ciphers obsolete. we'll have to really step up our game if we want to keep our messages safe.\n",
      "for indicie 8\n",
      "dpnqvufst ibwf sfoefsfe bmm pg uiftf pme djqifst pctpmfuf. xf'mm ibwf up sfbmmz tufq vq pvs hbnf jg xf xbou up lffq pvs nfttbhft tbgf.\n",
      "for indicie 9\n",
      "eqorwvgtu jcxg tgpfgtgf cnn qh vjgug qnf ekrjgtu qduqngvg. yg'nn jcxg vq tgcnna uvgr wr qwt icog kh yg ycpv vq mggr qwt oguucigu uchg.\n",
      "for indicie 10\n",
      "frpsxwhuv kdyh uhqghuhg doo ri wkhvh rog flskhuv revrohwh. zh'oo kdyh wr uhdoob vwhs xs rxu jdph li zh zdqw wr nhhs rxu phvvdjhv vdih.\n",
      "for indicie 11\n",
      "gsqtyxivw lezi virhivih epp sj xliwi sph gmtlivw sfwspixi. ai'pp lezi xs vieppc wxit yt syv keqi mj ai aerx xs oiit syv qiwwekiw weji.\n",
      "for indicie 12\n",
      "htruzyjwx mfaj wjsijwji fqq tk ymjxj tqi hnumjwx tgxtqjyj. bj'qq mfaj yt wjfqqd xyju zu tzw lfrj nk bj bfsy yt pjju tzw rjxxfljx xfkj.\n",
      "for indicie 13\n",
      "iusvazkxy ngbk xktjkxkj grr ul znkyk urj iovnkxy uhyurkzk. ck'rr ngbk zu xkgrre yzkv av uax mgsk ol ck cgtz zu qkkv uax skyygmky yglk.\n",
      "for indicie 14\n",
      "jvtwbalyz ohcl yluklylk hss vm aolzl vsk jpwolyz vizvslal. dl'ss ohcl av ylhssf zalw bw vby nhtl pm dl dhua av rllw vby tlzzhnlz zhml.\n",
      "for indicie 15\n",
      "kwuxcbmza pidm zmvlmzml itt wn bpmam wtl kqxpmza wjawtmbm. em'tt pidm bw zmittg abmx cx wcz oium qn em eivb bw smmx wcz umaaioma ainm.\n",
      "for indicie 16\n",
      "lxvydcnab qjen anwmnanm juu xo cqnbn xum lryqnab xkbxuncn. fn'uu qjen cx anjuuh bcny dy xda pjvn ro fn fjwc cx tnny xda vnbbjpnb bjon.\n",
      "for indicie 17\n",
      "mywzedobc rkfo boxnobon kvv yp droco yvn mszrobc ylcyvodo. go'vv rkfo dy bokvvi cdoz ez yeb qkwo sp go gkxd dy uooz yeb wocckqoc ckpo.\n",
      "for indicie 18\n",
      "nzxafepcd slgp cpyopcpo lww zq espdp zwo ntaspcd zmdzwpep. hp'ww slgp ez cplwwj depa fa zfc rlxp tq hp hlye ez vppa zfc xpddlrpd dlqp.\n",
      "for indicie 19\n",
      "oaybgfqde tmhq dqzpqdqp mxx ar ftqeq axp oubtqde aneaxqfq. iq'xx tmhq fa dqmxxk efqb gb agd smyq ur iq imzf fa wqqb agd yqeemsqe emrq.\n"
     ]
    }
   ],
   "source": [
    "shift_loop(cypher_4)"
   ]
  },
  {
   "cell_type": "code",
   "execution_count": 218,
   "id": "082fbda9-aeae-4c7a-b8ce-2cbf27880ece",
   "metadata": {},
   "outputs": [],
   "source": [
    "cypher_5 = \"txm srom vkda gl lzlgzr qpdb? fepb ejac! ubr imn tapludwy mhfbz cza ruxzal wg zztcgcexxch!\""
   ]
  },
  {
   "cell_type": "code",
   "execution_count": 219,
   "id": "ea43f8d8-df2d-493f-9db1-2c6acf00688c",
   "metadata": {},
   "outputs": [],
   "source": [
    "keyword = \"friends\""
   ]
  },
  {
   "cell_type": "code",
   "execution_count": 241,
   "id": "fdbcf7a1-0ecf-45cd-bf2a-845c1ed18ddf",
   "metadata": {},
   "outputs": [],
   "source": [
    "def create_keyword_phrase(text, keyword):\n",
    "    keyword_phrase = ''\n",
    "    keyword_length = len(keyword)\n",
    "    j = 0  # Index for the keyword\n",
    "\n",
    "    for char in text:\n",
    "        if char.isalpha():  # Only use keyword for alphabetic characters\n",
    "            keyword_phrase += keyword[j % keyword_length].lower()  # Ensure it's lowercase for consistency\n",
    "            j += 1  # Move to the next keyword letter\n",
    "        else:\n",
    "            keyword_phrase += char  # Keep non-alphabet characters unchanged\n",
    "    \n",
    "    return keyword_phrase"
   ]
  },
  {
   "cell_type": "code",
   "execution_count": 250,
   "id": "cc5233c4-7874-47cb-8ee7-3a84efd0acbb",
   "metadata": {},
   "outputs": [],
   "source": [
    "key_phrase = create_keyword_phrase(cypher_5, keyword)"
   ]
  },
  {
   "cell_type": "code",
   "execution_count": 251,
   "id": "f05c5e64-41fb-4193-9374-49e7f207ecc9",
   "metadata": {},
   "outputs": [
    {
     "name": "stdout",
     "output_type": "stream",
     "text": [
      "fri ends frie nd sfrien dsfr? iend sfri! end sfr iendsfri endsf rie ndsfri en dsfriendsfr!\n"
     ]
    }
   ],
   "source": [
    "print(key_phrase)"
   ]
  },
  {
   "cell_type": "code",
   "execution_count": 258,
   "id": "38ea8008-5abc-42cc-936f-a5ac4b6c7723",
   "metadata": {},
   "outputs": [],
   "source": [
    "import string\n",
    "\n",
    "# Define the alphabet\n",
    "alphabet = string.ascii_lowercase\n",
    "\n",
    "def vigenere_encode(plain_text, keyword):\n",
    "    encoded = ''\n",
    "    keyword_repeated = ''\n",
    "    keyword_index = 0\n",
    "\n",
    "    # Prepare the repeated keyword to match the length of the plain text\n",
    "    for letter in plain_text:\n",
    "        if letter in alphabet:\n",
    "            keyword_repeated += keyword[keyword_index % len(keyword)].lower()\n",
    "            keyword_index += 1\n",
    "        else:\n",
    "            keyword_repeated += letter  # Keep non-alphabetic characters unchanged\n",
    "\n",
    "    # Encode the message\n",
    "    for i in range(len(plain_text)):\n",
    "        letter = plain_text[i]\n",
    "        if letter in alphabet:\n",
    "            shift = alphabet.index(keyword_repeated[i])\n",
    "            new_index = (alphabet.index(letter) + shift) % 26\n",
    "            encoded += alphabet[new_index]\n",
    "        else:\n",
    "            encoded += letter  # Keep non-alphabetic characters unchanged\n",
    "            \n",
    "    return encoded"
   ]
  },
  {
   "cell_type": "code",
   "execution_count": 259,
   "id": "22e1a7d2-95af-47e7-9513-5e888c3a9a3e",
   "metadata": {},
   "outputs": [
    {
     "name": "stdout",
     "output_type": "stream",
     "text": [
      "you were able to decode this? nice work! you are becoming quite the expert at crytography!\n"
     ]
    }
   ],
   "source": [
    "# Coded message and keyword\n",
    "coded_message = \"txm srom vkda gl lzlgzr qpdb? fepb ejac! ubr imn tapludwy mhfbz cza ruxzal wg zztcgcexxch!\"\n",
    "keyword = \"friends\"\n",
    "\n",
    "# Encode the message with the keyword\n",
    "encoded_message = vigenere_encode(coded_message, keyword)\n",
    "print(encoded_message)"
   ]
  },
  {
   "cell_type": "code",
   "execution_count": null,
   "id": "00c649b2-ddb6-4f46-8a60-cf29f1b9c521",
   "metadata": {},
   "outputs": [],
   "source": []
  },
  {
   "cell_type": "code",
   "execution_count": null,
   "id": "4744c604-1868-4a1d-a002-5f61f1f8c654",
   "metadata": {},
   "outputs": [],
   "source": []
  }
 ],
 "metadata": {
  "kernelspec": {
   "display_name": "Python 3 (ipykernel)",
   "language": "python",
   "name": "python3"
  },
  "language_info": {
   "codemirror_mode": {
    "name": "ipython",
    "version": 3
   },
   "file_extension": ".py",
   "mimetype": "text/x-python",
   "name": "python",
   "nbconvert_exporter": "python",
   "pygments_lexer": "ipython3",
   "version": "3.12.7"
  }
 },
 "nbformat": 4,
 "nbformat_minor": 5
}
