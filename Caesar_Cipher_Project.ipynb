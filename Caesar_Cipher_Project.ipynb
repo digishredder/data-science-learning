```python
Hey there! How have you been? I've been great! I just learned about this really cool type of cipher called a Caesar Cipher. Here's how it works: You take your message, something like "hello" and then you shift all of the letters by a certain offset. 

For example, if I chose an offset of 3 and a message of "hello", I would encode my message by shifting each letter 3 places to the left with respect to the alphabet. So "h" becomes "e", "e" becomes "b", "l" becomes "i", and "o" becomes "l". Then I have my encoded message, "ebiil"! Now I can send you my message and the offset and you can decode it by shifting each letter 3 places to the right. The best thing is that Julius Caesar himself used this cipher, that's why it's called the Caesar Cipher! Isn't that so cool! Okay, now I'm going to send you a longer encoded message that you have to decode yourself!

    xuo jxuhu! jxyi yi qd unqcfbu ev q squiqh syfxuh. muhu oek qrbu je tusetu yj? y xefu ie! iudt cu q cuiiqwu rqsa myjx jxu iqcu evviuj!

This message has an offset of 10. Can you decode it?
```


      Cell In[136], line 1
        Hey there! How have you been? I've been great! I just learned about this really cool type of cipher called a Caesar Cipher. Here's how it works: You take your message, something like "hello" and then you shift all of the letters by a certain offset.
            ^
    SyntaxError: invalid syntax




```python
import string
```


```python
alphabet=string.ascii_lowercase
```


```python
print(alphabet)
```

    abcdefghijklmnopqrstuvwxyz



```python
print(alphabet.index('d'))

```

    3



```python
def decode_cypher(text, shift):
    decoded = ''
    for letter in text:
        if letter in alphabet:
            new_index = (alphabet.index(letter) + shift) % 26
            decoded += alphabet[new_index]
        else: decoded += letter
    return decoded
```


```python
decode_cypher('a', 10)
```




    'k'




```python
cypher = "xuo jxuhu! jxyi yi qd unqcfbu ev q squiqh syfxuh. muhu oek qrbu je tusetu yj? y xefu ie! iudt cu q cuiiqwu rqsa myjx jxu iqcu evviuj!"
```


```python
decode_cypher(cypher, 10)
```




    'hey there! this is an example of a caesar cipher. were you able to decode it? i hope so! send me a message back with the same offset!'




```python
send_cypher = "hey Vishal, fuck you because this exercise was way too hard but necessary at the same time."
```


```python
def encode_cypher(text, shift):
    decoded = ''
    for letter in text:
        if letter in alphabet:
            new_index = (alphabet.index(letter) - shift) % 26
            decoded += alphabet[new_index]
        else: decoded += letter
    return decoded
```


```python
encode_cypher(send_cypher, 10)
```




    'xuo Vyixqb, vksa oek rusqkiu jxyi unuhsyiu mqi mqo jee xqht rkj dusuiiqho qj jxu iqcu jycu.'




```python
cypher_4 = "vhfinmxkl atox kxgwxkxw tee hy maxlx hew vbiaxkl hulhexmx. px'ee atox mh kxteer lmxi ni hnk ztfx by px ptgm mh dxxi hnk fxlltzxl ltyx."
```


```python
def shift_loop(text):
    
    for i in range(20):
        decoded_text = decode_cypher(text, i)
        print("for indicie " + str(i) + "\n" + decoded_text)
```


```python
shift_loop(cypher_4)
```

    for indicie 0
    vhfinmxkl atox kxgwxkxw tee hy maxlx hew vbiaxkl hulhexmx. px'ee atox mh kxteer lmxi ni hnk ztfx by px ptgm mh dxxi hnk fxlltzxl ltyx.
    for indicie 1
    wigjonylm bupy lyhxylyx uff iz nbymy ifx wcjbylm ivmifyny. qy'ff bupy ni lyuffs mnyj oj iol augy cz qy quhn ni eyyj iol gymmuaym muzy.
    for indicie 2
    xjhkpozmn cvqz mziyzmzy vgg ja ocznz jgy xdkczmn jwnjgzoz. rz'gg cvqz oj mzvggt nozk pk jpm bvhz da rz rvio oj fzzk jpm hznnvbzn nvaz.
    for indicie 3
    ykilqpano dwra najzanaz whh kb pdaoa khz yeldano kxokhapa. sa'hh dwra pk nawhhu opal ql kqn cwia eb sa swjp pk gaal kqn iaoowcao owba.
    for indicie 4
    zljmrqbop exsb obkaboba xii lc qebpb lia zfmebop lyplibqb. tb'ii exsb ql obxiiv pqbm rm lro dxjb fc tb txkq ql hbbm lro jbppxdbp pxcb.
    for indicie 5
    amknsrcpq fytc pclbcpcb yjj md rfcqc mjb agnfcpq mzqmjcrc. uc'jj fytc rm pcyjjw qrcn sn msp eykc gd uc uylr rm iccn msp kcqqyecq qydc.
    for indicie 6
    bnlotsdqr gzud qdmcdqdc zkk ne sgdrd nkc bhogdqr narnkdsd. vd'kk gzud sn qdzkkx rsdo to ntq fzld he vd vzms sn jddo ntq ldrrzfdr rzed.
    for indicie 7
    computers have rendered all of these old ciphers obsolete. we'll have to really step up our game if we want to keep our messages safe.
    for indicie 8
    dpnqvufst ibwf sfoefsfe bmm pg uiftf pme djqifst pctpmfuf. xf'mm ibwf up sfbmmz tufq vq pvs hbnf jg xf xbou up lffq pvs nfttbhft tbgf.
    for indicie 9
    eqorwvgtu jcxg tgpfgtgf cnn qh vjgug qnf ekrjgtu qduqngvg. yg'nn jcxg vq tgcnna uvgr wr qwt icog kh yg ycpv vq mggr qwt oguucigu uchg.
    for indicie 10
    frpsxwhuv kdyh uhqghuhg doo ri wkhvh rog flskhuv revrohwh. zh'oo kdyh wr uhdoob vwhs xs rxu jdph li zh zdqw wr nhhs rxu phvvdjhv vdih.
    for indicie 11
    gsqtyxivw lezi virhivih epp sj xliwi sph gmtlivw sfwspixi. ai'pp lezi xs vieppc wxit yt syv keqi mj ai aerx xs oiit syv qiwwekiw weji.
    for indicie 12
    htruzyjwx mfaj wjsijwji fqq tk ymjxj tqi hnumjwx tgxtqjyj. bj'qq mfaj yt wjfqqd xyju zu tzw lfrj nk bj bfsy yt pjju tzw rjxxfljx xfkj.
    for indicie 13
    iusvazkxy ngbk xktjkxkj grr ul znkyk urj iovnkxy uhyurkzk. ck'rr ngbk zu xkgrre yzkv av uax mgsk ol ck cgtz zu qkkv uax skyygmky yglk.
    for indicie 14
    jvtwbalyz ohcl yluklylk hss vm aolzl vsk jpwolyz vizvslal. dl'ss ohcl av ylhssf zalw bw vby nhtl pm dl dhua av rllw vby tlzzhnlz zhml.
    for indicie 15
    kwuxcbmza pidm zmvlmzml itt wn bpmam wtl kqxpmza wjawtmbm. em'tt pidm bw zmittg abmx cx wcz oium qn em eivb bw smmx wcz umaaioma ainm.
    for indicie 16
    lxvydcnab qjen anwmnanm juu xo cqnbn xum lryqnab xkbxuncn. fn'uu qjen cx anjuuh bcny dy xda pjvn ro fn fjwc cx tnny xda vnbbjpnb bjon.
    for indicie 17
    mywzedobc rkfo boxnobon kvv yp droco yvn mszrobc ylcyvodo. go'vv rkfo dy bokvvi cdoz ez yeb qkwo sp go gkxd dy uooz yeb wocckqoc ckpo.
    for indicie 18
    nzxafepcd slgp cpyopcpo lww zq espdp zwo ntaspcd zmdzwpep. hp'ww slgp ez cplwwj depa fa zfc rlxp tq hp hlye ez vppa zfc xpddlrpd dlqp.
    for indicie 19
    oaybgfqde tmhq dqzpqdqp mxx ar ftqeq axp oubtqde aneaxqfq. iq'xx tmhq fa dqmxxk efqb gb agd smyq ur iq imzf fa wqqb agd yqeemsqe emrq.



```python
cypher_5 = "txm srom vkda gl lzlgzr qpdb? fepb ejac! ubr imn tapludwy mhfbz cza ruxzal wg zztcgcexxch!"
```


```python
keyword = "friends"
```


```python
def create_keyword_phrase(text, keyword):
    keyword_phrase = ''
    keyword_length = len(keyword)
    j = 0  # Index for the keyword

    for char in text:
        if char.isalpha():  # Only use keyword for alphabetic characters
            keyword_phrase += keyword[j % keyword_length].lower()  # Ensure it's lowercase for consistency
            j += 1  # Move to the next keyword letter
        else:
            keyword_phrase += char  # Keep non-alphabet characters unchanged
    
    return keyword_phrase
```


```python
key_phrase = create_keyword_phrase(cypher_5, keyword)
```


```python
print(key_phrase)
```

    fri ends frie nd sfrien dsfr? iend sfri! end sfr iendsfri endsf rie ndsfri en dsfriendsfr!



```python
import string

# Define the alphabet
alphabet = string.ascii_lowercase

def vigenere_encode(plain_text, keyword):
    encoded = ''
    keyword_repeated = ''
    keyword_index = 0

    # Prepare the repeated keyword to match the length of the plain text
    for letter in plain_text:
        if letter in alphabet:
            keyword_repeated += keyword[keyword_index % len(keyword)].lower()
            keyword_index += 1
        else:
            keyword_repeated += letter  # Keep non-alphabetic characters unchanged

    # Encode the message
    for i in range(len(plain_text)):
        letter = plain_text[i]
        if letter in alphabet:
            shift = alphabet.index(keyword_repeated[i])
            new_index = (alphabet.index(letter) + shift) % 26
            encoded += alphabet[new_index]
        else:
            encoded += letter  # Keep non-alphabetic characters unchanged
            
    return encoded
```


```python
# Coded message and keyword
coded_message = "txm srom vkda gl lzlgzr qpdb? fepb ejac! ubr imn tapludwy mhfbz cza ruxzal wg zztcgcexxch!"
keyword = "friends"

# Encode the message with the keyword
encoded_message = vigenere_encode(coded_message, keyword)
print(encoded_message)
```

    you were able to decode this? nice work! you are becoming quite the expert at crytography!



```python

```


```python

```
